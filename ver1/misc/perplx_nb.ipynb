{
 "cells": [
  {
   "cell_type": "code",
   "execution_count": null,
   "metadata": {
    "vscode": {
     "languageId": "plaintext"
    }
   },
   "outputs": [],
   "source": [
    "# Install required libraries\n",
    "!pip install requests pandas matplotlib yfinance langchain spacy\n",
    "!python -m spacy download en_core_web_lg"
   ]
  },
  {
   "cell_type": "code",
   "execution_count": null,
   "metadata": {
    "vscode": {
     "languageId": "plaintext"
    }
   },
   "outputs": [],
   "source": [
    "import requests\n",
    "import pandas as pd\n",
    "import matplotlib.pyplot as plt\n",
    "import yfinance as yf\n",
    "import spacy\n",
    "from spacy.matcher import Matcher\n",
    "from langchain.llms import OpenAI\n",
    "from langchain.prompts import PromptTemplate\n",
    "from typing import Dict, List, Any, Tuple"
   ]
  },
  {
   "cell_type": "code",
   "execution_count": null,
   "metadata": {
    "vscode": {
     "languageId": "plaintext"
    }
   },
   "outputs": [],
   "source": [
    "class QueryProcessor:\n",
    "    def __init__(self):\n",
    "        self.nlp = spacy.load(\"en_core_web_lg\")\n",
    "        self.matcher = Matcher(self.nlp.vocab)\n",
    "        self.company_to_ticker = self._initialize_company_database()\n",
    "        self._create_metric_patterns()\n",
    "\n",
    "    def _initialize_company_database(self) -> Dict[str, str]:\n",
    "        return {\n",
    "            \"tesla\": \"TSLA\",\n",
    "            \"apple\": \"AAPL\",\n",
    "            \"nvidia\": \"NVDA\",\n",
    "            \"microsoft\": \"MSFT\",\n",
    "            \"amazon\": \"AMZN\",\n",
    "            \"google\": \"GOOGL\",\n",
    "            \"alphabet\": \"GOOGL\",\n",
    "            \"meta\": \"META\",\n",
    "            \"facebook\": \"META\"\n",
    "        }\n",
    "\n",
    "    def _create_metric_patterns(self):\n",
    "        self.matcher.add(\"REVENUE\", [[{\"LOWER\": \"revenue\"}]])\n",
    "        self.matcher.add(\"EBITDA\", [[{\"LOWER\": \"ebitda\"}]])\n",
    "        self.matcher.add(\"EPS\", [[{\"LOWER\": \"eps\"}]])\n",
    "        self.matcher.add(\"PE_RATIO\", [[{\"LOWER\": \"p/e\"}, {\"LOWER\": \"ratio\"}]])\n",
    "        self.matcher.add(\"INTEREST_RATE\", [[{\"LOWER\": \"interest\"}, {\"LOWER\": \"rate\"}]])\n",
    "\n",
    "    def extract_companies(self, query: str) -> List[Dict[str, str]]:\n",
    "        doc = self.nlp(query.lower())\n",
    "        companies = []\n",
    "\n",
    "        for ent in doc.ents:\n",
    "            if ent.label_ == \"ORG\":\n",
    "                company_name = ent.text.lower()\n",
    "                if company_name in self.company_to_ticker:\n",
    "                    companies.append({\n",
    "                        \"name\": company_name,\n",
    "                        \"ticker\": self.company_to_ticker[company_name]\n",
    "                    })\n",
    "\n",
    "        ticker_pattern = r'\\b[A-Z]{1,5}\\b'\n",
    "        potential_tickers = re.findall(ticker_pattern, query)\n",
    "        for ticker in potential_tickers:\n",
    "            companies.append({\"name\": ticker, \"ticker\": ticker})\n",
    "\n",
    "        return companies\n",
    "\n",
    "    def extract_metrics(self, query: str) -> List[str]:\n",
    "        doc = self.nlp(query)\n",
    "        matches = self.matcher(doc)\n",
    "\n",
    "        metrics = []\n",
    "        for match_id, start, end in matches:\n",
    "            span = doc[start:end]\n",
    "            metrics.append(span.text)\n",
    "\n",
    "        return metrics\n",
    "\n",
    "    def process_query(self, query: str) -> Dict:\n",
    "        companies = self.extract_companies(query)\n",
    "        metrics = self.extract_metrics(query)\n",
    "        \n",
    "        return {\n",
    "            \"companies\": companies,\n",
    "            \"metrics\": metrics,\n",
    "            \"query_text\": query\n",
    "        }\n",
    "\n",
    "query_processor = QueryProcessor()\n",
    "example_query = \"Summarize TSLA's financials over the last 5 years\"\n",
    "processed_query = query_processor.process_query(example_query)\n",
    "print(processed_query)"
   ]
  },
  {
   "cell_type": "code",
   "execution_count": null,
   "metadata": {
    "vscode": {
     "languageId": "plaintext"
    }
   },
   "outputs": [],
   "source": [
    "class APIConnector:\n",
    "    def __init__(self, api_keys: Dict[str, str]):\n",
    "        self.api_keys = api_keys\n",
    "\n",
    "    def fetch_alpha_vantage_data(self, symbol: str) -> Dict:\n",
    "        base_url = \"https://www.alphavantage.co/query\"\n",
    "        \n",
    "        params = {\n",
    "            \"function\": \"OVERVIEW\",\n",
    "            \"symbol\": symbol,\n",
    "            \"apikey\": self.api_keys[\"alpha_vantage\"]\n",
    "        }\n",
    "        \n",
    "        response = requests.get(base_url, params=params)\n",
    "        \n",
    "        return response.json()\n",
    "\n",
    "    def fetch_yahoo_finance_data(self, symbol: str) -> pd.DataFrame:\n",
    "        stock = yf.Ticker(symbol)\n",
    "        \n",
    "        return stock.history(period=\"5y\")\n",
    "\n",
    "api_keys = {\"alpha_vantage\": \"<YOUR_ALPHA_VANTAGE_API_KEY>\"}\n",
    "api_connector = APIConnector(api_keys)\n",
    "\n",
    "# Example usage\n",
    "alpha_vantage_data = api_connector.fetch_alpha_vantage_data(\"TSLA\")\n",
    "yahoo_finance_data = api_connector.fetch_yahoo_finance_data(\"TSLA\")\n",
    "\n",
    "print(alpha_vantage_data)\n",
    "print(yahoo_finance_data.head())"
   ]
  },
  {
   "cell_type": "code",
   "execution_count": null,
   "metadata": {
    "vscode": {
     "languageId": "plaintext"
    }
   },
   "outputs": [],
   "source": [
    "class SECFilingAgent:\n",
    "    def analyze_sec_filings(self, data: Dict):\n",
    "        return {\"insights\": f\"Analyzed SEC filings for {data.get('Name', 'Unknown')}.\"}\n",
    "\n",
    "class MarketResearchAgent:\n",
    "    def gather_market_context(self, data: pd.DataFrame):\n",
    "        return {\"market_context\": f\"Market data analyzed. Historical trends observed.\"}\n",
    "\n",
    "class TechnicalAnalysisAgent:\n",
    "    def perform_technical_analysis(self, data: pd.DataFrame):\n",
    "        return {\"technical_analysis\": f\"Technical indicators calculated.\"}\n",
    "\n",
    "sec_agent = SECFilingAgent()\n",
    "market_agent = MarketResearchAgent()\n",
    "technical_agent = TechnicalAnalysisAgent()\n",
    "\n",
    "sec_analysis_result = sec_agent.analyze_sec_filings(alpha_vantage_data)\n",
    "market_context_result = market_agent.gather_market_context(yahoo_finance_data)\n",
    "technical_analysis_result = technical_agent.perform_technical_analysis(yahoo_finance_data)\n",
    "\n",
    "print(sec_analysis_result)\n",
    "print(market_context_result)\n",
    "print(technical_analysis_result)"
   ]
  },
  {
   "cell_type": "code",
   "execution_count": null,
   "metadata": {
    "vscode": {
     "languageId": "plaintext"
    }
   },
   "outputs": [],
   "source": [
    "class ReportGenerator:\n",
    "    def generate_report(self, sec_analysis: Dict, market_context: Dict, technical_analysis: Dict) -> str:\n",
    "        report = f\"\"\"\n",
    "Financial Analysis Report:\n",
    "===========================\n",
    "SEC Analysis:\n",
    "{sec_analysis['insights']}\n",
    "\n",
    "Market Context:\n",
    "{market_context['market_context']}\n",
    "\n",
    "Technical Analysis:\n",
    "{technical_analysis['technical_analysis']}\n",
    "\"\"\"\n",
    "        \n",
    "        return report\n",
    "\n",
    "report_generator = ReportGenerator()\n",
    "\n",
    "# Generate report based on agent outputs\n",
    "report = report_generator.generate_report(\n",
    "    sec_analysis_result,\n",
    "    market_context_result,\n",
    "    technical_analysis_result\n",
    ")\n",
    "\n",
    "print(report)"
   ]
  },
  {
   "cell_type": "code",
   "execution_count": null,
   "metadata": {
    "vscode": {
     "languageId": "plaintext"
    }
   },
   "outputs": [],
   "source": [
    "def generate_visualizations(data: pd.DataFrame):\n",
    "    plt.figure(figsize=(10, 6))\n",
    "    \n",
    "    # Plot closing prices\n",
    "    plt.plot(data.index, data['Close'], label=\"Closing Price\")\n",
    "    \n",
    "    plt.title(\"Stock Price Over Time\")\n",
    "    plt.xlabel(\"Date\")\n",
    "    plt.ylabel(\"Price\")\n",
    "    plt.legend()\n",
    "    \n",
    "    plt.grid(True)\n",
    "    plt.show()\n",
    "\n",
    "generate_visualizations(yahoo_finance_data)"
   ]
  },
  {
   "cell_type": "code",
   "execution_count": null,
   "metadata": {
    "vscode": {
     "languageId": "plaintext"
    }
   },
   "outputs": [],
   "source": [
    "def process_financial_query(query: str):\n",
    "    # Step 1: Process the query to extract key components\n",
    "    processed_query = query_processor.process_query(query)\n",
    "\n",
    "    # Step 2: Fetch data from APIs based on extracted companies and metrics\n",
    "    company_tickers = [company[\"ticker\"] for company in processed_query[\"companies\"]]\n",
    "    \n",
    "    api_results_alpha_vantage = [\n",
    "        api_connector.fetch_alpha_vantage_data(ticker) for ticker in company_tickers\n",
    "    ]\n",
    "    \n",
    "    api_results_yahoo_finance = [\n",
    "        api_connector.fetch_yahoo_finance_data(ticker) for ticker in company_tickers\n",
    "    ]\n",
    "\n",
    "    # Step 3: Perform analysis using specialized agents\n",
    "    sec_results = [sec_agent.analyze_sec_filings(data) for data in api_results_alpha_vantage]\n",
    "    \n",
    "    market_results = [market_agent.gather_market_context(data) for data in api_results_yahoo_finance]\n",
    "    \n",
    "    technical_results = [technical_agent.perform_technical_analysis(data) for data in api_results_yahoo_finance]\n",
    "\n",
    "    # Step 4: Generate a comprehensive report based on agent outputs\n",
    "    reports = [\n",
    "        report_generator.generate_report(sec_result, market_result, technical_result)\n",
    "        for sec_result, market_result, technical_result in zip(sec_results, market_results, technical_results)\n",
    "    ]\n",
    "\n",
    "    # Step 5: Visualize results (example visualization for the first company's data)\n",
    "    generate_visualizations(api_results_yahoo_finance[0])\n",
    "\n",
    "    return reports\n",
    "\n",
    "# Example usage of the workflow with a query\n",
    "query_example = \"Summarize TSLA's financials over the last 5 years\"\n",
    "final_reports = process_financial_query(query_example)\n",
    "\n",
    "for report in final_reports:\n",
    "    print(report)"
   ]
  }
 ],
 "metadata": {
  "language_info": {
   "name": "python"
  }
 },
 "nbformat": 4,
 "nbformat_minor": 2
}
